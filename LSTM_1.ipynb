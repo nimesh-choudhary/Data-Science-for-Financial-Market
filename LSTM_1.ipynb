{
 "cells": [
  {
   "cell_type": "code",
   "execution_count": 2,
   "id": "ee1c6bfe",
   "metadata": {},
   "outputs": [],
   "source": [
    "import numpy as np\n",
    "import matplotlib.pyplot as plt\n",
    "plt.style.use('fivethirtyeight')\n",
    "import pandas as pd\n",
    "from sklearn.preprocessing import MinMaxScaler\n",
    "from keras.models import Sequential\n",
    "from keras.layers import Dense, LSTM, Dropout, GRU, Bidirectional\n",
    "from tensorflow.keras.optimizers import SGD\n",
    "import math\n",
    "from sklearn.metrics import mean_squared_error"
   ]
  },
  {
   "cell_type": "code",
   "execution_count": 10,
   "id": "e8f5bde2",
   "metadata": {},
   "outputs": [],
   "source": [
    "df = pd.read_csv('GSPC.csv')"
   ]
  },
  {
   "cell_type": "code",
   "execution_count": 11,
   "id": "6b923be7",
   "metadata": {},
   "outputs": [
    {
     "data": {
      "text/html": [
       "<div>\n",
       "<style scoped>\n",
       "    .dataframe tbody tr th:only-of-type {\n",
       "        vertical-align: middle;\n",
       "    }\n",
       "\n",
       "    .dataframe tbody tr th {\n",
       "        vertical-align: top;\n",
       "    }\n",
       "\n",
       "    .dataframe thead th {\n",
       "        text-align: right;\n",
       "    }\n",
       "</style>\n",
       "<table border=\"1\" class=\"dataframe\">\n",
       "  <thead>\n",
       "    <tr style=\"text-align: right;\">\n",
       "      <th></th>\n",
       "      <th>Date</th>\n",
       "      <th>Close</th>\n",
       "    </tr>\n",
       "  </thead>\n",
       "  <tbody>\n",
       "    <tr>\n",
       "      <th>0</th>\n",
       "      <td>2000-01-03</td>\n",
       "      <td>1455.219971</td>\n",
       "    </tr>\n",
       "    <tr>\n",
       "      <th>1</th>\n",
       "      <td>2000-01-04</td>\n",
       "      <td>1399.420044</td>\n",
       "    </tr>\n",
       "    <tr>\n",
       "      <th>2</th>\n",
       "      <td>2000-01-05</td>\n",
       "      <td>1402.109985</td>\n",
       "    </tr>\n",
       "    <tr>\n",
       "      <th>3</th>\n",
       "      <td>2000-01-06</td>\n",
       "      <td>1403.449951</td>\n",
       "    </tr>\n",
       "    <tr>\n",
       "      <th>4</th>\n",
       "      <td>2000-01-07</td>\n",
       "      <td>1441.469971</td>\n",
       "    </tr>\n",
       "    <tr>\n",
       "      <th>...</th>\n",
       "      <td>...</td>\n",
       "      <td>...</td>\n",
       "    </tr>\n",
       "    <tr>\n",
       "      <th>5616</th>\n",
       "      <td>2022-04-28</td>\n",
       "      <td>4287.500000</td>\n",
       "    </tr>\n",
       "    <tr>\n",
       "      <th>5617</th>\n",
       "      <td>2022-04-29</td>\n",
       "      <td>4131.930176</td>\n",
       "    </tr>\n",
       "    <tr>\n",
       "      <th>5618</th>\n",
       "      <td>2022-05-02</td>\n",
       "      <td>4155.379883</td>\n",
       "    </tr>\n",
       "    <tr>\n",
       "      <th>5619</th>\n",
       "      <td>2022-05-03</td>\n",
       "      <td>4175.479980</td>\n",
       "    </tr>\n",
       "    <tr>\n",
       "      <th>5620</th>\n",
       "      <td>2022-05-04</td>\n",
       "      <td>4300.169922</td>\n",
       "    </tr>\n",
       "  </tbody>\n",
       "</table>\n",
       "<p>5621 rows × 2 columns</p>\n",
       "</div>"
      ],
      "text/plain": [
       "            Date        Close\n",
       "0     2000-01-03  1455.219971\n",
       "1     2000-01-04  1399.420044\n",
       "2     2000-01-05  1402.109985\n",
       "3     2000-01-06  1403.449951\n",
       "4     2000-01-07  1441.469971\n",
       "...          ...          ...\n",
       "5616  2022-04-28  4287.500000\n",
       "5617  2022-04-29  4131.930176\n",
       "5618  2022-05-02  4155.379883\n",
       "5619  2022-05-03  4175.479980\n",
       "5620  2022-05-04  4300.169922\n",
       "\n",
       "[5621 rows x 2 columns]"
      ]
     },
     "execution_count": 11,
     "metadata": {},
     "output_type": "execute_result"
    }
   ],
   "source": [
    "df = df[['Date', 'Close']]\n",
    "\n",
    "df"
   ]
  },
  {
   "cell_type": "code",
   "execution_count": 12,
   "id": "6ef2edfc",
   "metadata": {},
   "outputs": [
    {
     "data": {
      "text/plain": [
       "0       2000-01-03\n",
       "1       2000-01-04\n",
       "2       2000-01-05\n",
       "3       2000-01-06\n",
       "4       2000-01-07\n",
       "           ...    \n",
       "5616    2022-04-28\n",
       "5617    2022-04-29\n",
       "5618    2022-05-02\n",
       "5619    2022-05-03\n",
       "5620    2022-05-04\n",
       "Name: Date, Length: 5621, dtype: object"
      ]
     },
     "execution_count": 12,
     "metadata": {},
     "output_type": "execute_result"
    }
   ],
   "source": [
    "df['Date']"
   ]
  },
  {
   "cell_type": "code",
   "execution_count": 13,
   "id": "800a9976",
   "metadata": {},
   "outputs": [
    {
     "data": {
      "text/plain": [
       "datetime.datetime(1986, 3, 19, 0, 0)"
      ]
     },
     "execution_count": 13,
     "metadata": {},
     "output_type": "execute_result"
    }
   ],
   "source": [
    "import datetime\n",
    "\n",
    "def str_to_datetime(s):\n",
    "  split = s.split('-')\n",
    "  year, month, day = int(split[0]), int(split[1]), int(split[2])\n",
    "  return datetime.datetime(year=year, month=month, day=day)\n",
    "\n",
    "datetime_object = str_to_datetime('1986-03-19')\n",
    "datetime_object"
   ]
  },
  {
   "cell_type": "code",
   "execution_count": 14,
   "id": "2b62b554",
   "metadata": {},
   "outputs": [
    {
     "data": {
      "text/html": [
       "<div>\n",
       "<style scoped>\n",
       "    .dataframe tbody tr th:only-of-type {\n",
       "        vertical-align: middle;\n",
       "    }\n",
       "\n",
       "    .dataframe tbody tr th {\n",
       "        vertical-align: top;\n",
       "    }\n",
       "\n",
       "    .dataframe thead th {\n",
       "        text-align: right;\n",
       "    }\n",
       "</style>\n",
       "<table border=\"1\" class=\"dataframe\">\n",
       "  <thead>\n",
       "    <tr style=\"text-align: right;\">\n",
       "      <th></th>\n",
       "      <th>Date</th>\n",
       "      <th>Close</th>\n",
       "    </tr>\n",
       "  </thead>\n",
       "  <tbody>\n",
       "    <tr>\n",
       "      <th>0</th>\n",
       "      <td>2000-01-03</td>\n",
       "      <td>1455.219971</td>\n",
       "    </tr>\n",
       "    <tr>\n",
       "      <th>1</th>\n",
       "      <td>2000-01-04</td>\n",
       "      <td>1399.420044</td>\n",
       "    </tr>\n",
       "    <tr>\n",
       "      <th>2</th>\n",
       "      <td>2000-01-05</td>\n",
       "      <td>1402.109985</td>\n",
       "    </tr>\n",
       "    <tr>\n",
       "      <th>3</th>\n",
       "      <td>2000-01-06</td>\n",
       "      <td>1403.449951</td>\n",
       "    </tr>\n",
       "    <tr>\n",
       "      <th>4</th>\n",
       "      <td>2000-01-07</td>\n",
       "      <td>1441.469971</td>\n",
       "    </tr>\n",
       "    <tr>\n",
       "      <th>...</th>\n",
       "      <td>...</td>\n",
       "      <td>...</td>\n",
       "    </tr>\n",
       "    <tr>\n",
       "      <th>5616</th>\n",
       "      <td>2022-04-28</td>\n",
       "      <td>4287.500000</td>\n",
       "    </tr>\n",
       "    <tr>\n",
       "      <th>5617</th>\n",
       "      <td>2022-04-29</td>\n",
       "      <td>4131.930176</td>\n",
       "    </tr>\n",
       "    <tr>\n",
       "      <th>5618</th>\n",
       "      <td>2022-05-02</td>\n",
       "      <td>4155.379883</td>\n",
       "    </tr>\n",
       "    <tr>\n",
       "      <th>5619</th>\n",
       "      <td>2022-05-03</td>\n",
       "      <td>4175.479980</td>\n",
       "    </tr>\n",
       "    <tr>\n",
       "      <th>5620</th>\n",
       "      <td>2022-05-04</td>\n",
       "      <td>4300.169922</td>\n",
       "    </tr>\n",
       "  </tbody>\n",
       "</table>\n",
       "<p>5621 rows × 2 columns</p>\n",
       "</div>"
      ],
      "text/plain": [
       "            Date        Close\n",
       "0     2000-01-03  1455.219971\n",
       "1     2000-01-04  1399.420044\n",
       "2     2000-01-05  1402.109985\n",
       "3     2000-01-06  1403.449951\n",
       "4     2000-01-07  1441.469971\n",
       "...          ...          ...\n",
       "5616  2022-04-28  4287.500000\n",
       "5617  2022-04-29  4131.930176\n",
       "5618  2022-05-02  4155.379883\n",
       "5619  2022-05-03  4175.479980\n",
       "5620  2022-05-04  4300.169922\n",
       "\n",
       "[5621 rows x 2 columns]"
      ]
     },
     "execution_count": 14,
     "metadata": {},
     "output_type": "execute_result"
    }
   ],
   "source": [
    "df"
   ]
  },
  {
   "cell_type": "code",
   "execution_count": 15,
   "id": "208cbc76",
   "metadata": {},
   "outputs": [
    {
     "data": {
      "text/plain": [
       "0      2000-01-03\n",
       "1      2000-01-04\n",
       "2      2000-01-05\n",
       "3      2000-01-06\n",
       "4      2000-01-07\n",
       "          ...    \n",
       "5616   2022-04-28\n",
       "5617   2022-04-29\n",
       "5618   2022-05-02\n",
       "5619   2022-05-03\n",
       "5620   2022-05-04\n",
       "Name: Date, Length: 5621, dtype: datetime64[ns]"
      ]
     },
     "execution_count": 15,
     "metadata": {},
     "output_type": "execute_result"
    }
   ],
   "source": [
    "df['Date'] = df['Date'].apply(str_to_datetime)\n",
    "df['Date']"
   ]
  },
  {
   "cell_type": "code",
   "execution_count": 16,
   "id": "3693f76c",
   "metadata": {},
   "outputs": [
    {
     "data": {
      "text/html": [
       "<div>\n",
       "<style scoped>\n",
       "    .dataframe tbody tr th:only-of-type {\n",
       "        vertical-align: middle;\n",
       "    }\n",
       "\n",
       "    .dataframe tbody tr th {\n",
       "        vertical-align: top;\n",
       "    }\n",
       "\n",
       "    .dataframe thead th {\n",
       "        text-align: right;\n",
       "    }\n",
       "</style>\n",
       "<table border=\"1\" class=\"dataframe\">\n",
       "  <thead>\n",
       "    <tr style=\"text-align: right;\">\n",
       "      <th></th>\n",
       "      <th>Close</th>\n",
       "    </tr>\n",
       "    <tr>\n",
       "      <th>Date</th>\n",
       "      <th></th>\n",
       "    </tr>\n",
       "  </thead>\n",
       "  <tbody>\n",
       "    <tr>\n",
       "      <th>2000-01-03</th>\n",
       "      <td>1455.219971</td>\n",
       "    </tr>\n",
       "    <tr>\n",
       "      <th>2000-01-04</th>\n",
       "      <td>1399.420044</td>\n",
       "    </tr>\n",
       "    <tr>\n",
       "      <th>2000-01-05</th>\n",
       "      <td>1402.109985</td>\n",
       "    </tr>\n",
       "    <tr>\n",
       "      <th>2000-01-06</th>\n",
       "      <td>1403.449951</td>\n",
       "    </tr>\n",
       "    <tr>\n",
       "      <th>2000-01-07</th>\n",
       "      <td>1441.469971</td>\n",
       "    </tr>\n",
       "    <tr>\n",
       "      <th>...</th>\n",
       "      <td>...</td>\n",
       "    </tr>\n",
       "    <tr>\n",
       "      <th>2022-04-28</th>\n",
       "      <td>4287.500000</td>\n",
       "    </tr>\n",
       "    <tr>\n",
       "      <th>2022-04-29</th>\n",
       "      <td>4131.930176</td>\n",
       "    </tr>\n",
       "    <tr>\n",
       "      <th>2022-05-02</th>\n",
       "      <td>4155.379883</td>\n",
       "    </tr>\n",
       "    <tr>\n",
       "      <th>2022-05-03</th>\n",
       "      <td>4175.479980</td>\n",
       "    </tr>\n",
       "    <tr>\n",
       "      <th>2022-05-04</th>\n",
       "      <td>4300.169922</td>\n",
       "    </tr>\n",
       "  </tbody>\n",
       "</table>\n",
       "<p>5621 rows × 1 columns</p>\n",
       "</div>"
      ],
      "text/plain": [
       "                  Close\n",
       "Date                   \n",
       "2000-01-03  1455.219971\n",
       "2000-01-04  1399.420044\n",
       "2000-01-05  1402.109985\n",
       "2000-01-06  1403.449951\n",
       "2000-01-07  1441.469971\n",
       "...                 ...\n",
       "2022-04-28  4287.500000\n",
       "2022-04-29  4131.930176\n",
       "2022-05-02  4155.379883\n",
       "2022-05-03  4175.479980\n",
       "2022-05-04  4300.169922\n",
       "\n",
       "[5621 rows x 1 columns]"
      ]
     },
     "execution_count": 16,
     "metadata": {},
     "output_type": "execute_result"
    }
   ],
   "source": [
    "df.index = df.pop('Date')\n",
    "df"
   ]
  },
  {
   "cell_type": "code",
   "execution_count": 17,
   "id": "40043736",
   "metadata": {},
   "outputs": [
    {
     "data": {
      "text/plain": [
       "[<matplotlib.lines.Line2D at 0x170cdd6bc40>]"
      ]
     },
     "execution_count": 17,
     "metadata": {},
     "output_type": "execute_result"
    },
    {
     "data": {
      "image/png": "[encoded data removed]",
      "text/plain": [
       "<Figure size 432x288 with 1 Axes>"
      ]
     },
     "metadata": {},
     "output_type": "display_data"
    }
   ],
   "source": [
    "import matplotlib.pyplot as plt\n",
    "\n",
    "plt.plot(df.index, df['Close'])"
   ]
  },
  {
   "cell_type": "code",
   "execution_count": 18,
   "id": "47de9fe0",
   "metadata": {},
   "outputs": [
    {
     "data": {
      "text/html": [
       "<div>\n",
       "<style scoped>\n",
       "    .dataframe tbody tr th:only-of-type {\n",
       "        vertical-align: middle;\n",
       "    }\n",
       "\n",
       "    .dataframe tbody tr th {\n",
       "        vertical-align: top;\n",
       "    }\n",
       "\n",
       "    .dataframe thead th {\n",
       "        text-align: right;\n",
       "    }\n",
       "</style>\n",
       "<table border=\"1\" class=\"dataframe\">\n",
       "  <thead>\n",
       "    <tr style=\"text-align: right;\">\n",
       "      <th></th>\n",
       "      <th>Target Date</th>\n",
       "      <th>Target-3</th>\n",
       "      <th>Target-2</th>\n",
       "      <th>Target-1</th>\n",
       "      <th>Target</th>\n",
       "    </tr>\n",
       "  </thead>\n",
       "  <tbody>\n",
       "    <tr>\n",
       "      <th>0</th>\n",
       "      <td>2021-03-25</td>\n",
       "      <td>3940.590088</td>\n",
       "      <td>3910.520020</td>\n",
       "      <td>3889.139893</td>\n",
       "      <td>3909.520020</td>\n",
       "    </tr>\n",
       "    <tr>\n",
       "      <th>1</th>\n",
       "      <td>2021-03-26</td>\n",
       "      <td>3910.520020</td>\n",
       "      <td>3889.139893</td>\n",
       "      <td>3909.520020</td>\n",
       "      <td>3974.540039</td>\n",
       "    </tr>\n",
       "    <tr>\n",
       "      <th>2</th>\n",
       "      <td>2021-03-29</td>\n",
       "      <td>3889.139893</td>\n",
       "      <td>3909.520020</td>\n",
       "      <td>3974.540039</td>\n",
       "      <td>3971.090088</td>\n",
       "    </tr>\n",
       "    <tr>\n",
       "      <th>3</th>\n",
       "      <td>2021-03-30</td>\n",
       "      <td>3909.520020</td>\n",
       "      <td>3974.540039</td>\n",
       "      <td>3971.090088</td>\n",
       "      <td>3958.550049</td>\n",
       "    </tr>\n",
       "    <tr>\n",
       "      <th>4</th>\n",
       "      <td>2021-03-31</td>\n",
       "      <td>3974.540039</td>\n",
       "      <td>3971.090088</td>\n",
       "      <td>3958.550049</td>\n",
       "      <td>3972.889893</td>\n",
       "    </tr>\n",
       "    <tr>\n",
       "      <th>...</th>\n",
       "      <td>...</td>\n",
       "      <td>...</td>\n",
       "      <td>...</td>\n",
       "      <td>...</td>\n",
       "      <td>...</td>\n",
       "    </tr>\n",
       "    <tr>\n",
       "      <th>247</th>\n",
       "      <td>2022-03-17</td>\n",
       "      <td>4173.109863</td>\n",
       "      <td>4262.450195</td>\n",
       "      <td>4357.859863</td>\n",
       "      <td>4411.669922</td>\n",
       "    </tr>\n",
       "    <tr>\n",
       "      <th>248</th>\n",
       "      <td>2022-03-18</td>\n",
       "      <td>4262.450195</td>\n",
       "      <td>4357.859863</td>\n",
       "      <td>4411.669922</td>\n",
       "      <td>4463.120117</td>\n",
       "    </tr>\n",
       "    <tr>\n",
       "      <th>249</th>\n",
       "      <td>2022-03-21</td>\n",
       "      <td>4357.859863</td>\n",
       "      <td>4411.669922</td>\n",
       "      <td>4463.120117</td>\n",
       "      <td>4461.180176</td>\n",
       "    </tr>\n",
       "    <tr>\n",
       "      <th>250</th>\n",
       "      <td>2022-03-22</td>\n",
       "      <td>4411.669922</td>\n",
       "      <td>4463.120117</td>\n",
       "      <td>4461.180176</td>\n",
       "      <td>4511.609863</td>\n",
       "    </tr>\n",
       "    <tr>\n",
       "      <th>251</th>\n",
       "      <td>2022-03-23</td>\n",
       "      <td>4463.120117</td>\n",
       "      <td>4461.180176</td>\n",
       "      <td>4511.609863</td>\n",
       "      <td>4456.240234</td>\n",
       "    </tr>\n",
       "  </tbody>\n",
       "</table>\n",
       "<p>252 rows × 5 columns</p>\n",
       "</div>"
      ],
      "text/plain": [
       "    Target Date     Target-3     Target-2     Target-1       Target\n",
       "0    2021-03-25  3940.590088  3910.520020  3889.139893  3909.520020\n",
       "1    2021-03-26  3910.520020  3889.139893  3909.520020  3974.540039\n",
       "2    2021-03-29  3889.139893  3909.520020  3974.540039  3971.090088\n",
       "3    2021-03-30  3909.520020  3974.540039  3971.090088  3958.550049\n",
       "4    2021-03-31  3974.540039  3971.090088  3958.550049  3972.889893\n",
       "..          ...          ...          ...          ...          ...\n",
       "247  2022-03-17  4173.109863  4262.450195  4357.859863  4411.669922\n",
       "248  2022-03-18  4262.450195  4357.859863  4411.669922  4463.120117\n",
       "249  2022-03-21  4357.859863  4411.669922  4463.120117  4461.180176\n",
       "250  2022-03-22  4411.669922  4463.120117  4461.180176  4511.609863\n",
       "251  2022-03-23  4463.120117  4461.180176  4511.609863  4456.240234\n",
       "\n",
       "[252 rows x 5 columns]"
      ]
     },
     "execution_count": 18,
     "metadata": {},
     "output_type": "execute_result"
    }
   ],
   "source": [
    "import numpy as np\n",
    "\n",
    "def df_to_windowed_df(dataframe, first_date_str, last_date_str, n=3):\n",
    "  first_date = str_to_datetime(first_date_str)\n",
    "  last_date  = str_to_datetime(last_date_str)\n",
    "\n",
    "  target_date = first_date\n",
    "  \n",
    "  dates = []\n",
    "  X, Y = [], []\n",
    "\n",
    "  last_time = False\n",
    "  while True:\n",
    "    df_subset = dataframe.loc[:target_date].tail(n+1)\n",
    "    \n",
    "    if len(df_subset) != n+1:\n",
    "      print(f'Error: Window of size {n} is too large for date {target_date}')\n",
    "      return\n",
    "\n",
    "    values = df_subset['Close'].to_numpy()\n",
    "    x, y = values[:-1], values[-1]\n",
    "\n",
    "    dates.append(target_date)\n",
    "    X.append(x)\n",
    "    Y.append(y)\n",
    "\n",
    "    next_week = dataframe.loc[target_date:target_date+datetime.timedelta(days=7)]\n",
    "    next_datetime_str = str(next_week.head(2).tail(1).index.values[0])\n",
    "    next_date_str = next_datetime_str.split('T')[0]\n",
    "    year_month_day = next_date_str.split('-')\n",
    "    year, month, day = year_month_day\n",
    "    next_date = datetime.datetime(day=int(day), month=int(month), year=int(year))\n",
    "    \n",
    "    if last_time:\n",
    "      break\n",
    "    \n",
    "    target_date = next_date\n",
    "\n",
    "    if target_date == last_date:\n",
    "      last_time = True\n",
    "    \n",
    "  ret_df = pd.DataFrame({})\n",
    "  ret_df['Target Date'] = dates\n",
    "  \n",
    "  X = np.array(X)\n",
    "  for i in range(0, n):\n",
    "    X[:, i]\n",
    "    ret_df[f'Target-{n-i}'] = X[:, i]\n",
    "  \n",
    "  ret_df['Target'] = Y\n",
    "\n",
    "  return ret_df\n",
    "\n",
    "# Start day second time around: '2021-03-25'\n",
    "windowed_df = df_to_windowed_df(df, \n",
    "                                '2021-03-25', \n",
    "                                '2022-03-23', \n",
    "                                n=3)\n",
    "windowed_df"
   ]
  },
  {
   "cell_type": "code",
   "execution_count": 19,
   "id": "b7e08a28",
   "metadata": {},
   "outputs": [
    {
     "data": {
      "text/plain": [
       "((252,), (252, 3, 1), (252,))"
      ]
     },
     "execution_count": 19,
     "metadata": {},
     "output_type": "execute_result"
    }
   ],
   "source": [
    "def windowed_df_to_date_X_y(windowed_dataframe):\n",
    "  df_as_np = windowed_dataframe.to_numpy()\n",
    "\n",
    "  dates = df_as_np[:, 0]\n",
    "\n",
    "  middle_matrix = df_as_np[:, 1:-1]\n",
    "  X = middle_matrix.reshape((len(dates), middle_matrix.shape[1], 1))\n",
    "\n",
    "  Y = df_as_np[:, -1]\n",
    "\n",
    "  return dates, X.astype(np.float32), Y.astype(np.float32)\n",
    "\n",
    "dates, X, y = windowed_df_to_date_X_y(windowed_df)\n",
    "\n",
    "dates.shape, X.shape, y.shape"
   ]
  },
  {
   "cell_type": "code",
   "execution_count": 20,
   "id": "09a27a92",
   "metadata": {},
   "outputs": [
    {
     "data": {
      "text/plain": [
       "<matplotlib.legend.Legend at 0x170cfd9ac40>"
      ]
     },
     "execution_count": 20,
     "metadata": {},
     "output_type": "execute_result"
    },
    {
     "data": {
      "image/png": "[encoded data removed]",
      "text/plain": [
       "<Figure size 432x288 with 1 Axes>"
      ]
     },
     "metadata": {},
     "output_type": "display_data"
    }
   ],
   "source": [
    "q_80 = int(len(dates) * .8)\n",
    "q_90 = int(len(dates) * .9)\n",
    "\n",
    "dates_train, X_train, y_train = dates[:q_80], X[:q_80], y[:q_80]\n",
    "\n",
    "dates_val, X_val, y_val = dates[q_80:q_90], X[q_80:q_90], y[q_80:q_90]\n",
    "dates_test, X_test, y_test = dates[q_90:], X[q_90:], y[q_90:]\n",
    "\n",
    "plt.plot(dates_train, y_train)\n",
    "plt.plot(dates_val, y_val)\n",
    "plt.plot(dates_test, y_test)\n",
    "\n",
    "plt.legend(['Train', 'Validation', 'Test'])"
   ]
  },
  {
   "cell_type": "code",
   "execution_count": 21,
   "id": "7900eb5f",
   "metadata": {},
   "outputs": [],
   "source": [
    "from tensorflow.keras.models import Sequential\n",
    "from tensorflow.keras.optimizers import Adam\n",
    "from tensorflow.keras import layers"
   ]
  },
  {
   "cell_type": "code",
   "execution_count": 23,
   "id": "0d415fbf",
   "metadata": {},
   "outputs": [
    {
     "name": "stdout",
     "output_type": "stream",
     "text": [
      "Epoch 1/20\n",
      "7/7 [==============================] - 3s 111ms/step - loss: 19410798.0000 - mean_absolute_error: 4400.9053 - val_loss: 20388204.0000 - val_mean_absolute_error: 4513.9478\n",
      "Epoch 2/20\n",
      "7/7 [==============================] - 0s 14ms/step - loss: 19410570.0000 - mean_absolute_error: 4400.8789 - val_loss: 20387882.0000 - val_mean_absolute_error: 4513.9136\n",
      "Epoch 3/20\n",
      "7/7 [==============================] - 0s 12ms/step - loss: 19409470.0000 - mean_absolute_error: 4400.7539 - val_loss: 20384994.0000 - val_mean_absolute_error: 4513.5928\n",
      "Epoch 4/20\n",
      "7/7 [==============================] - 0s 9ms/step - loss: 19407404.0000 - mean_absolute_error: 4400.5186 - val_loss: 20384610.0000 - val_mean_absolute_error: 4513.5503\n",
      "Epoch 5/20\n",
      "7/7 [==============================] - 0s 9ms/step - loss: 19406990.0000 - mean_absolute_error: 4400.4722 - val_loss: 20384224.0000 - val_mean_absolute_error: 4513.5068\n",
      "Epoch 6/20\n",
      "7/7 [==============================] - 0s 10ms/step - loss: 19406522.0000 - mean_absolute_error: 4400.4185 - val_loss: 20383830.0000 - val_mean_absolute_error: 4513.4634\n",
      "Epoch 7/20\n",
      "7/7 [==============================] - 0s 9ms/step - loss: 19406258.0000 - mean_absolute_error: 4400.3887 - val_loss: 20383442.0000 - val_mean_absolute_error: 4513.4199\n",
      "Epoch 8/20\n",
      "7/7 [==============================] - 0s 8ms/step - loss: 19405870.0000 - mean_absolute_error: 4400.3447 - val_loss: 20383052.0000 - val_mean_absolute_error: 4513.3765\n",
      "Epoch 9/20\n",
      "7/7 [==============================] - 0s 10ms/step - loss: 19405502.0000 - mean_absolute_error: 4400.3027 - val_loss: 20382660.0000 - val_mean_absolute_error: 4513.3340\n",
      "Epoch 10/20\n",
      "7/7 [==============================] - 0s 14ms/step - loss: 19404942.0000 - mean_absolute_error: 4400.2393 - val_loss: 20382268.0000 - val_mean_absolute_error: 4513.2900\n",
      "Epoch 11/20\n",
      "7/7 [==============================] - 0s 12ms/step - loss: 19404552.0000 - mean_absolute_error: 4400.1943 - val_loss: 20381876.0000 - val_mean_absolute_error: 4513.2476\n",
      "Epoch 12/20\n",
      "7/7 [==============================] - 0s 9ms/step - loss: 19404312.0000 - mean_absolute_error: 4400.1675 - val_loss: 20381490.0000 - val_mean_absolute_error: 4513.2041\n",
      "Epoch 13/20\n",
      "7/7 [==============================] - 0s 9ms/step - loss: 19403850.0000 - mean_absolute_error: 4400.1147 - val_loss: 20381102.0000 - val_mean_absolute_error: 4513.1606\n",
      "Epoch 14/20\n",
      "7/7 [==============================] - 0s 8ms/step - loss: 19403448.0000 - mean_absolute_error: 4400.0693 - val_loss: 20380716.0000 - val_mean_absolute_error: 4513.1187\n",
      "Epoch 15/20\n",
      "7/7 [==============================] - 0s 8ms/step - loss: 19403014.0000 - mean_absolute_error: 4400.0205 - val_loss: 20380334.0000 - val_mean_absolute_error: 4513.0752\n",
      "Epoch 16/20\n",
      "7/7 [==============================] - 0s 11ms/step - loss: 19402784.0000 - mean_absolute_error: 4399.9941 - val_loss: 20379946.0000 - val_mean_absolute_error: 4513.0327\n",
      "Epoch 17/20\n",
      "7/7 [==============================] - 0s 11ms/step - loss: 19402522.0000 - mean_absolute_error: 4399.9644 - val_loss: 20379562.0000 - val_mean_absolute_error: 4512.9902\n",
      "Epoch 18/20\n",
      "7/7 [==============================] - 0s 11ms/step - loss: 19401924.0000 - mean_absolute_error: 4399.8965 - val_loss: 20379178.0000 - val_mean_absolute_error: 4512.9478\n",
      "Epoch 19/20\n",
      "7/7 [==============================] - 0s 11ms/step - loss: 19401738.0000 - mean_absolute_error: 4399.8750 - val_loss: 20378798.0000 - val_mean_absolute_error: 4512.9062\n",
      "Epoch 20/20\n",
      "7/7 [==============================] - 0s 10ms/step - loss: 19401422.0000 - mean_absolute_error: 4399.8394 - val_loss: 20378418.0000 - val_mean_absolute_error: 4512.8638\n"
     ]
    },
    {
     "data": {
      "text/plain": [
       "<keras.callbacks.History at 0x170d562d790>"
      ]
     },
     "execution_count": 23,
     "metadata": {},
     "output_type": "execute_result"
    }
   ],
   "source": [
    "model = Sequential()\n",
    "model.add(LSTM(units=50, return_sequences=True, input_shape=(X_train.shape[1],1)))\n",
    "model.add(Dropout(0.2))\n",
    "model.add(Dense(units=1))\n",
    "model.compile(loss='mse', \n",
    "              optimizer=Adam(learning_rate=0.001),\n",
    "              metrics=['mean_absolute_error'])\n",
    "model.fit(X_train, y_train, validation_data=(X_val, y_val), epochs=20)"
   ]
  },
  {
   "cell_type": "code",
   "execution_count": 25,
   "id": "422dd99d",
   "metadata": {},
   "outputs": [],
   "source": [
    "train_predictions = model.predict(X_train).flatten()"
   ]
  },
  {
   "cell_type": "code",
   "execution_count": 27,
   "id": "f0f8cf05",
   "metadata": {},
   "outputs": [
    {
     "data": {
      "text/plain": [
       "(603,)"
      ]
     },
     "execution_count": 27,
     "metadata": {},
     "output_type": "execute_result"
    }
   ],
   "source": [
    "train_predictions.shape"
   ]
  },
  {
   "cell_type": "code",
   "execution_count": 28,
   "id": "a1b49126",
   "metadata": {},
   "outputs": [
    {
     "data": {
      "text/plain": [
       "(201, 3, 1)"
      ]
     },
     "execution_count": 28,
     "metadata": {},
     "output_type": "execute_result"
    }
   ],
   "source": [
    "X_train.shape"
   ]
  },
  {
   "cell_type": "code",
   "execution_count": null,
   "id": "3caf4141",
   "metadata": {},
   "outputs": [],
   "source": []
  },
  {
   "cell_type": "code",
   "execution_count": null,
   "id": "17909e8a",
   "metadata": {},
   "outputs": [],
   "source": []
  },
  {
   "cell_type": "code",
   "execution_count": null,
   "id": "8b7759a9",
   "metadata": {},
   "outputs": [],
   "source": []
  },
  {
   "cell_type": "code",
   "execution_count": null,
   "id": "8ba26c71",
   "metadata": {},
   "outputs": [],
   "source": []
  },
  {
   "cell_type": "code",
   "execution_count": null,
   "id": "561b6c6a",
   "metadata": {},
   "outputs": [],
   "source": []
  },
  {
   "cell_type": "code",
   "execution_count": null,
   "id": "724f466b",
   "metadata": {},
   "outputs": [],
   "source": []
  },
  {
   "cell_type": "code",
   "execution_count": null,
   "id": "f7f6bbc7",
   "metadata": {},
   "outputs": [],
   "source": []
  },
  {
   "cell_type": "code",
   "execution_count": null,
   "id": "aec36d8a",
   "metadata": {},
   "outputs": [],
   "source": []
  },
  {
   "cell_type": "code",
   "execution_count": null,
   "id": "3a147b1d",
   "metadata": {},
   "outputs": [],
   "source": []
  },
  {
   "cell_type": "code",
   "execution_count": null,
   "id": "860db855",
   "metadata": {},
   "outputs": [],
   "source": []
  },
  {
   "cell_type": "code",
   "execution_count": null,
   "id": "bd7bb319",
   "metadata": {},
   "outputs": [],
   "source": []
  },
  {
   "cell_type": "code",
   "execution_count": null,
   "id": "13e68b0d",
   "metadata": {},
   "outputs": [],
   "source": []
  },
  {
   "cell_type": "code",
   "execution_count": null,
   "id": "5aa9658a",
   "metadata": {},
   "outputs": [],
   "source": []
  },
  {
   "cell_type": "code",
   "execution_count": null,
   "id": "41ab85b9",
   "metadata": {},
   "outputs": [],
   "source": []
  }
 ],
 "metadata": {
  "kernelspec": {
   "display_name": "Python 3 (ipykernel)",
   "language": "python",
   "name": "python3"
  },
  "language_info": {
   "codemirror_mode": {
    "name": "ipython",
    "version": 3
   },
   "file_extension": ".py",
   "mimetype": "text/x-python",
   "name": "python",
   "nbconvert_exporter": "python",
   "pygments_lexer": "ipython3",
   "version": "3.9.7"
  }
 },
 "nbformat": 4,
 "nbformat_minor": 5
}
