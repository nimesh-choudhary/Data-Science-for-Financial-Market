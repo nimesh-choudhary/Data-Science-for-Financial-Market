{
  "nbformat": 4,
  "nbformat_minor": 0,
  "metadata": {
    "colab": {
      "provenance": []
    },
    "kernelspec": {
      "name": "python3",
      "display_name": "Python 3"
    }
  },
  "cells": [
    {
      "cell_type": "code",
      "metadata": {
        "id": "2SoQJk5BYOas"
      },
      "source": [
        "import numpy as np\n",
        "import matplotlib.pyplot as plt\n",
        "import pandas as pd "
      ],
      "execution_count": null,
      "outputs": []
    },
    {
      "cell_type": "code",
      "source": [
        "!pip install yfinance"
      ],
      "metadata": {
        "colab": {
          "base_uri": "https://localhost:8080/"
        },
        "id": "NN7syUqlfUOS",
        "outputId": "7629e0c6-25cc-4cb3-e77b-784c87f5e311"
      },
      "execution_count": null,
      "outputs": [
        {
          "output_type": "stream",
          "name": "stdout",
          "text": [
            "Looking in indexes: https://pypi.org/simple, https://us-python.pkg.dev/colab-wheels/public/simple/\n",
            "Collecting yfinance\n",
            "  Downloading yfinance-0.1.74-py2.py3-none-any.whl (27 kB)\n",
            "Requirement already satisfied: pandas>=0.24.0 in /usr/local/lib/python3.7/dist-packages (from yfinance) (1.3.5)\n",
            "Collecting requests>=2.26\n",
            "  Downloading requests-2.28.1-py3-none-any.whl (62 kB)\n",
            "\u001b[K     |████████████████████████████████| 62 kB 1.2 MB/s \n",
            "\u001b[?25hRequirement already satisfied: multitasking>=0.0.7 in /usr/local/lib/python3.7/dist-packages (from yfinance) (0.0.11)\n",
            "Requirement already satisfied: numpy>=1.15 in /usr/local/lib/python3.7/dist-packages (from yfinance) (1.21.6)\n",
            "Requirement already satisfied: lxml>=4.5.1 in /usr/local/lib/python3.7/dist-packages (from yfinance) (4.9.1)\n",
            "Requirement already satisfied: python-dateutil>=2.7.3 in /usr/local/lib/python3.7/dist-packages (from pandas>=0.24.0->yfinance) (2.8.2)\n",
            "Requirement already satisfied: pytz>=2017.3 in /usr/local/lib/python3.7/dist-packages (from pandas>=0.24.0->yfinance) (2022.2.1)\n",
            "Requirement already satisfied: six>=1.5 in /usr/local/lib/python3.7/dist-packages (from python-dateutil>=2.7.3->pandas>=0.24.0->yfinance) (1.15.0)\n",
            "Requirement already satisfied: urllib3<1.27,>=1.21.1 in /usr/local/lib/python3.7/dist-packages (from requests>=2.26->yfinance) (1.24.3)\n",
            "Requirement already satisfied: charset-normalizer<3,>=2 in /usr/local/lib/python3.7/dist-packages (from requests>=2.26->yfinance) (2.1.1)\n",
            "Requirement already satisfied: certifi>=2017.4.17 in /usr/local/lib/python3.7/dist-packages (from requests>=2.26->yfinance) (2022.6.15)\n",
            "Requirement already satisfied: idna<4,>=2.5 in /usr/local/lib/python3.7/dist-packages (from requests>=2.26->yfinance) (2.10)\n",
            "Installing collected packages: requests, yfinance\n",
            "  Attempting uninstall: requests\n",
            "    Found existing installation: requests 2.23.0\n",
            "    Uninstalling requests-2.23.0:\n",
            "      Successfully uninstalled requests-2.23.0\n",
            "Successfully installed requests-2.28.1 yfinance-0.1.74\n"
          ]
        }
      ]
    },
    {
      "cell_type": "code",
      "source": [
        "import yfinance as yf"
      ],
      "metadata": {
        "id": "Eo_sFt0pftG7"
      },
      "execution_count": null,
      "outputs": []
    },
    {
      "cell_type": "code",
      "source": [
        "abcd = yf.download('^GSPC', start=\"2000-01-01\", end=\"2022-05-05\")"
      ],
      "metadata": {
        "colab": {
          "base_uri": "https://localhost:8080/"
        },
        "id": "znF1dNN5fXPL",
        "outputId": "ed8725ae-8679-42e9-ffbb-592ac290f32a"
      },
      "execution_count": null,
      "outputs": [
        {
          "output_type": "stream",
          "name": "stdout",
          "text": [
            "\r[*********************100%***********************]  1 of 1 completed\n"
          ]
        }
      ]
    },
    {
      "cell_type": "code",
      "source": [
        "abcd.to_csv('data.csv')"
      ],
      "metadata": {
        "id": "tsoOz6pWfr5I"
      },
      "execution_count": null,
      "outputs": []
    },
    {
      "cell_type": "markdown",
      "metadata": {
        "id": "BD3hdApP7gNi"
      },
      "source": [
        "Load training data set with the \"Open\" and \"High\" columns to use in our modeling."
      ]
    },
    {
      "cell_type": "code",
      "metadata": {
        "id": "VU6ve06iDV5Q"
      },
      "source": [
        "# url = 'https://raw.githubusercontent.com/mwitiderrick/stockprice/master/NSE-TATAGLOBAL.csv'\n",
        "df = pd.read_csv('data.csv')\n",
        "# training_set = dataset_train.iloc[:, 1:2].values"
      ],
      "execution_count": null,
      "outputs": []
    },
    {
      "cell_type": "markdown",
      "metadata": {
        "id": "RsLbMJ1072EY"
      },
      "source": [
        "Let's take a look at the first five rows of our dataset"
      ]
    },
    {
      "cell_type": "code",
      "source": [
        "df.shape"
      ],
      "metadata": {
        "colab": {
          "base_uri": "https://localhost:8080/"
        },
        "id": "xIer6zgb0hh-",
        "outputId": "a7325c03-ebc6-4d4a-daf7-2f4ecb9148e6"
      },
      "execution_count": null,
      "outputs": [
        {
          "output_type": "execute_result",
          "data": {
            "text/plain": [
              "(5621, 7)"
            ]
          },
          "metadata": {},
          "execution_count": 10
        }
      ]
    },
    {
      "cell_type": "code",
      "source": [
        "plt.figure(figsize=(16,8))\n",
        "plt.title('Close Price History')\n",
        "plt.plot(df['Close'])\n",
        "plt.xlabel('Date', fontsize=18)\n",
        "plt.ylabel('Close Price USD ($)', fontsize=18)\n",
        "plt.show()"
      ],
      "metadata": {
        "colab": {
          "base_uri": "https://localhost:8080/",
          "height": 521
        },
        "id": "fxPvp12Y0hfJ",
        "outputId": "693a5c64-7fa6-4192-d8b8-b977b49cc406"
      },
      "execution_count": null,
      "outputs": [
        {
          "output_type": "display_data",
          "data": {
            "text/plain": [
              "<Figure size 1152x576 with 1 Axes>"
            ],
            "image/png": "[encoded data removed]"
          },
          "metadata": {
            "needs_background": "light"
          }
        }
      ]
    },
    {
      "cell_type": "code",
      "source": [
        "import math"
      ],
      "metadata": {
        "id": "0b39ENIr0zI0"
      },
      "execution_count": null,
      "outputs": []
    },
    {
      "cell_type": "code",
      "source": [
        "data = df.filter(['Close'])\n",
        "#Converting the dataframe to a numpy array\n",
        "dataset = data.values\n",
        "#Get /Compute the number of rows to train the model on\n",
        "training_data_len = math.ceil( len(dataset) *.8)\n",
        "training_data_len"
      ],
      "metadata": {
        "colab": {
          "base_uri": "https://localhost:8080/"
        },
        "id": "yxKT8ymE0hcg",
        "outputId": "d986b4c8-ad86-489b-d683-2f4141b036cd"
      },
      "execution_count": null,
      "outputs": [
        {
          "output_type": "execute_result",
          "data": {
            "text/plain": [
              "4497"
            ]
          },
          "metadata": {},
          "execution_count": 13
        }
      ]
    },
    {
      "cell_type": "code",
      "source": [
        "import seaborn as sns\n",
        "plt.style.use(\"fivethirtyeight\")\n",
        "sns.set_style('whitegrid')\n",
        "%matplotlib inline\n",
        "from datetime import datetime\n",
        "from sklearn.preprocessing import MinMaxScaler\n",
        "from keras.models import Sequential\n",
        "from keras.layers import Dense,LSTM"
      ],
      "metadata": {
        "id": "qEV6nIX-040M"
      },
      "execution_count": null,
      "outputs": []
    },
    {
      "cell_type": "code",
      "source": [
        "scaler = MinMaxScaler(feature_range=(0, 1)) \n",
        "scaled_data = scaler.fit_transform(dataset)\n",
        "scaled_data"
      ],
      "metadata": {
        "colab": {
          "base_uri": "https://localhost:8080/"
        },
        "id": "EpFkMY2Z0hZu",
        "outputId": "d309f455-23eb-4244-cecb-dd579ff9bc0c"
      },
      "execution_count": null,
      "outputs": [
        {
          "output_type": "execute_result",
          "data": {
            "text/plain": [
              "array([[0.18900104],\n",
              "       [0.17545746],\n",
              "       [0.17611036],\n",
              "       ...,\n",
              "       [0.84437488],\n",
              "       [0.84925351],\n",
              "       [0.87951784]])"
            ]
          },
          "metadata": {},
          "execution_count": 15
        }
      ]
    },
    {
      "cell_type": "code",
      "source": [
        "#Creating the scaled training data set\n",
        "train_data = scaled_data[0:training_data_len  , : ]\n",
        "#Spliting the data into x_train and y_train data sets\n",
        "x_train=[]\n",
        "y_train = []\n",
        "for i in range(60,len(train_data)):\n",
        "    x_train.append(train_data[i-60:i,0])\n",
        "    y_train.append(train_data[i,0])\n",
        "    if i<= 61:\n",
        "        print(x_train)\n",
        "        print(y_train)\n",
        "        print()"
      ],
      "metadata": {
        "colab": {
          "base_uri": "https://localhost:8080/"
        },
        "id": "8Qkh9gzP0hW6",
        "outputId": "3f9ea4b1-f9f9-422a-a04c-8a81ab8da0eb"
      },
      "execution_count": null,
      "outputs": [
        {
          "output_type": "stream",
          "name": "stdout",
          "text": [
            "[array([0.18900104, 0.17545746, 0.17611036, 0.17643559, 0.18566368,\n",
            "       0.1895787 , 0.1849574 , 0.18342584, 0.18765641, 0.19141123,\n",
            "       0.18898163, 0.1891661 , 0.18665881, 0.18563699, 0.17596959,\n",
            "       0.17803268, 0.17659093, 0.17524873, 0.1659284 , 0.17425357,\n",
            "       0.17785065, 0.1778118 , 0.18165886, 0.18151323, 0.18148168,\n",
            "       0.18572436, 0.17844043, 0.17968314, 0.17247204, 0.17315648,\n",
            "       0.17609581, 0.17260554, 0.17274874, 0.16251336, 0.1639891 ,\n",
            "       0.16605702, 0.16429492, 0.15942358, 0.16298911, 0.16744781,\n",
            "       0.17054728, 0.17117108, 0.17782395, 0.17348175, 0.16482646,\n",
            "       0.16751575, 0.1760084 , 0.17440162, 0.17162253, 0.16568326,\n",
            "       0.17369048, 0.18978986, 0.19124616, 0.18934327, 0.19838204,\n",
            "       0.20002524, 0.20650819, 0.20653489, 0.20566111, 0.20174609])]\n",
            "[0.20193784616088406]\n",
            "\n",
            "[array([0.18900104, 0.17545746, 0.17611036, 0.17643559, 0.18566368,\n",
            "       0.1895787 , 0.1849574 , 0.18342584, 0.18765641, 0.19141123,\n",
            "       0.18898163, 0.1891661 , 0.18665881, 0.18563699, 0.17596959,\n",
            "       0.17803268, 0.17659093, 0.17524873, 0.1659284 , 0.17425357,\n",
            "       0.17785065, 0.1778118 , 0.18165886, 0.18151323, 0.18148168,\n",
            "       0.18572436, 0.17844043, 0.17968314, 0.17247204, 0.17315648,\n",
            "       0.17609581, 0.17260554, 0.17274874, 0.16251336, 0.1639891 ,\n",
            "       0.16605702, 0.16429492, 0.15942358, 0.16298911, 0.16744781,\n",
            "       0.17054728, 0.17117108, 0.17782395, 0.17348175, 0.16482646,\n",
            "       0.16751575, 0.1760084 , 0.17440162, 0.17162253, 0.16568326,\n",
            "       0.17369048, 0.18978986, 0.19124616, 0.18934327, 0.19838204,\n",
            "       0.20002524, 0.20650819, 0.20653489, 0.20566111, 0.20174609]), array([0.17545746, 0.17611036, 0.17643559, 0.18566368, 0.1895787 ,\n",
            "       0.1849574 , 0.18342584, 0.18765641, 0.19141123, 0.18898163,\n",
            "       0.1891661 , 0.18665881, 0.18563699, 0.17596959, 0.17803268,\n",
            "       0.17659093, 0.17524873, 0.1659284 , 0.17425357, 0.17785065,\n",
            "       0.1778118 , 0.18165886, 0.18151323, 0.18148168, 0.18572436,\n",
            "       0.17844043, 0.17968314, 0.17247204, 0.17315648, 0.17609581,\n",
            "       0.17260554, 0.17274874, 0.16251336, 0.1639891 , 0.16605702,\n",
            "       0.16429492, 0.15942358, 0.16298911, 0.16744781, 0.17054728,\n",
            "       0.17117108, 0.17782395, 0.17348175, 0.16482646, 0.16751575,\n",
            "       0.1760084 , 0.17440162, 0.17162253, 0.16568326, 0.17369048,\n",
            "       0.18978986, 0.19124616, 0.18934327, 0.19838204, 0.20002524,\n",
            "       0.20650819, 0.20653489, 0.20566111, 0.20174609, 0.20193785])]\n",
            "[0.20193784616088406, 0.19693788852964]\n",
            "\n"
          ]
        }
      ]
    },
    {
      "cell_type": "code",
      "source": [
        "#Here we are Converting x_train and y_train to numpy arrays\n",
        "x_train, y_train = np.array(x_train), np.array(y_train)"
      ],
      "metadata": {
        "id": "jOhgOZBo0hUU"
      },
      "execution_count": null,
      "outputs": []
    },
    {
      "cell_type": "code",
      "source": [
        "x_train = np.reshape(x_train, (x_train.shape[0],x_train.shape[1],1))"
      ],
      "metadata": {
        "id": "5zyCJbVR0hRp"
      },
      "execution_count": null,
      "outputs": []
    },
    {
      "cell_type": "code",
      "source": [
        "model = Sequential()\n",
        "model.add(LSTM(units=50, return_sequences=True,input_shape=(x_train.shape[1],1)))\n",
        "model.add(LSTM(units=50, return_sequences=False))\n",
        "model.add(LSTM(units=50, return_sequences=False))\n",
        "model.add(Dense(units=25))\n",
        "model.add(Dense(units=1))"
      ],
      "metadata": {
        "id": "-yg6w_oV0hO_"
      },
      "execution_count": null,
      "outputs": []
    },
    {
      "cell_type": "code",
      "source": [
        "model.compile(optimizer='adam', loss='mean_squared_error')"
      ],
      "metadata": {
        "id": "Viks8Sdi0hMU"
      },
      "execution_count": null,
      "outputs": []
    },
    {
      "cell_type": "code",
      "source": [
        "model.fit(x_train, y_train, batch_size=1, epochs=20)"
      ],
      "metadata": {
        "colab": {
          "base_uri": "https://localhost:8080/"
        },
        "id": "h-j-57el0hJv",
        "outputId": "3edf7b73-d67f-46f4-feb8-8610cfbe5985"
      },
      "execution_count": 22,
      "outputs": [
        {
          "output_type": "stream",
          "name": "stdout",
          "text": [
            "Epoch 1/20\n",
            "4437/4437 [==============================] - 124s 27ms/step - loss: 2.6130e-04\n",
            "Epoch 2/20\n",
            "4437/4437 [==============================] - 115s 26ms/step - loss: 9.2119e-05\n",
            "Epoch 3/20\n",
            "4437/4437 [==============================] - 117s 26ms/step - loss: 5.7259e-05\n",
            "Epoch 4/20\n",
            "4437/4437 [==============================] - 117s 26ms/step - loss: 4.5674e-05\n",
            "Epoch 5/20\n",
            "4437/4437 [==============================] - 116s 26ms/step - loss: 4.4614e-05\n",
            "Epoch 6/20\n",
            "4437/4437 [==============================] - 117s 26ms/step - loss: 4.4596e-05\n",
            "Epoch 7/20\n",
            "4437/4437 [==============================] - 117s 26ms/step - loss: 3.6075e-05\n",
            "Epoch 8/20\n",
            "4437/4437 [==============================] - 116s 26ms/step - loss: 3.3721e-05\n",
            "Epoch 9/20\n",
            "4437/4437 [==============================] - 118s 27ms/step - loss: 3.5781e-05\n",
            "Epoch 10/20\n",
            "4437/4437 [==============================] - 138s 31ms/step - loss: 3.3771e-05\n",
            "Epoch 11/20\n",
            "4437/4437 [==============================] - 129s 29ms/step - loss: 3.3027e-05\n",
            "Epoch 12/20\n",
            "4437/4437 [==============================] - 119s 27ms/step - loss: 3.3591e-05\n",
            "Epoch 13/20\n",
            "4437/4437 [==============================] - 121s 27ms/step - loss: 3.1305e-05\n",
            "Epoch 14/20\n",
            "4437/4437 [==============================] - 123s 28ms/step - loss: 2.9144e-05\n",
            "Epoch 15/20\n",
            "4437/4437 [==============================] - 121s 27ms/step - loss: 2.7908e-05\n",
            "Epoch 16/20\n",
            "4437/4437 [==============================] - 122s 27ms/step - loss: 2.8739e-05\n",
            "Epoch 17/20\n",
            "4437/4437 [==============================] - 120s 27ms/step - loss: 2.7636e-05\n",
            "Epoch 18/20\n",
            "4437/4437 [==============================] - 118s 27ms/step - loss: 2.8951e-05\n",
            "Epoch 19/20\n",
            "4437/4437 [==============================] - 118s 27ms/step - loss: 2.7713e-05\n",
            "Epoch 20/20\n",
            "4437/4437 [==============================] - 119s 27ms/step - loss: 2.7720e-05\n"
          ]
        },
        {
          "output_type": "execute_result",
          "data": {
            "text/plain": [
              "<keras.callbacks.History at 0x7f0c3026a150>"
            ]
          },
          "metadata": {},
          "execution_count": 22
        }
      ]
    },
    {
      "cell_type": "code",
      "source": [
        "# here we are testing data set\n",
        "test_data = scaled_data[training_data_len - 60: , : ]\n",
        "#Creating the x_test and y_test data sets\n",
        "x_test = []\n",
        "y_test =  dataset[training_data_len : , : ] #Get all of the rows from index 1603 to the rest and all of the columns (in this case it's only column 'Close'), so 2003 - 1603 = 400 rows of data\n",
        "for i in range(60,len(test_data)):\n",
        "    x_test.append(test_data[i-60:i,0])"
      ],
      "metadata": {
        "id": "0rjBQs5A0hHM"
      },
      "execution_count": 23,
      "outputs": []
    },
    {
      "cell_type": "code",
      "source": [
        "x_test = np.array(x_test)\n"
      ],
      "metadata": {
        "id": "IQ0JZRgS0hEm"
      },
      "execution_count": 24,
      "outputs": []
    },
    {
      "cell_type": "code",
      "source": [
        "x_test = np.reshape(x_test, (x_test.shape[0],x_test.shape[1],1))"
      ],
      "metadata": {
        "id": "n8Z-f2Mz0hB5"
      },
      "execution_count": 25,
      "outputs": []
    },
    {
      "cell_type": "code",
      "source": [
        "predictions = model.predict(x_test) \n",
        "predictions = scaler.inverse_transform(predictions)#Undo scaling"
      ],
      "metadata": {
        "id": "eDMNMmM90g_F"
      },
      "execution_count": 26,
      "outputs": []
    },
    {
      "cell_type": "code",
      "source": [
        "rmse=np.sqrt(np.mean(((predictions- y_test)**2)))\n",
        "rmse"
      ],
      "metadata": {
        "colab": {
          "base_uri": "https://localhost:8080/"
        },
        "id": "a3dzofJv0g8c",
        "outputId": "0b3df67f-3e29-456d-cebc-b8f43b11ecd8"
      },
      "execution_count": 27,
      "outputs": [
        {
          "output_type": "execute_result",
          "data": {
            "text/plain": [
              "151.683257970045"
            ]
          },
          "metadata": {},
          "execution_count": 27
        }
      ]
    },
    {
      "cell_type": "code",
      "source": [
        "from sklearn.metrics import mean_absolute_error as mae"
      ],
      "metadata": {
        "id": "d0HwzxdZmRd2"
      },
      "execution_count": 28,
      "outputs": []
    },
    {
      "cell_type": "code",
      "source": [
        "train = data[:training_data_len]\n",
        "valid = data[training_data_len:]\n",
        "valid['Predictions'] = predictions\n",
        "#Visualize the data\n",
        "plt.figure(figsize=(16,8))\n",
        "plt.title('Model')\n",
        "plt.xlabel('Date', fontsize=18)\n",
        "plt.ylabel('Close Price USD ($)', fontsize=18)\n",
        "plt.plot(train['Close'])\n",
        "plt.plot(valid[['Close', 'Predictions']])\n",
        "plt.legend(['Train', 'Val', 'Predictions'], loc='lower right')\n",
        "plt.show()"
      ],
      "metadata": {
        "colab": {
          "base_uri": "https://localhost:8080/",
          "height": 627
        },
        "id": "LFp_danw101k",
        "outputId": "a3aef9b7-7833-40da-cb6a-b93eec830dc9"
      },
      "execution_count": 31,
      "outputs": [
        {
          "output_type": "stream",
          "name": "stderr",
          "text": [
            "/usr/local/lib/python3.7/dist-packages/ipykernel_launcher.py:3: SettingWithCopyWarning: \n",
            "A value is trying to be set on a copy of a slice from a DataFrame.\n",
            "Try using .loc[row_indexer,col_indexer] = value instead\n",
            "\n",
            "See the caveats in the documentation: https://pandas.pydata.org/pandas-docs/stable/user_guide/indexing.html#returning-a-view-versus-a-copy\n",
            "  This is separate from the ipykernel package so we can avoid doing imports until\n"
          ]
        },
        {
          "output_type": "display_data",
          "data": {
            "text/plain": [
              "<Figure size 1152x576 with 1 Axes>"
            ],
            "image/png": "[encoded data removed]"
          },
          "metadata": {
            "needs_background": "light"
          }
        }
      ]
    },
    {
      "cell_type": "code",
      "source": [
        "print(valid)"
      ],
      "metadata": {
        "colab": {
          "base_uri": "https://localhost:8080/"
        },
        "id": "njv1SZrq10yM",
        "outputId": "ac55e1d4-bd6f-4137-ba0e-970f2b818828"
      },
      "execution_count": null,
      "outputs": [
        {
          "output_type": "stream",
          "name": "stdout",
          "text": [
            "            Close  Predictions\n",
            "4497  2564.620117  2491.492432\n",
            "4498  2585.639893  2480.119385\n",
            "4499  2578.850098  2498.463135\n",
            "4500  2582.139893  2489.195068\n",
            "4501  2599.030029  2494.979248\n",
            "...           ...          ...\n",
            "5616  4287.500000  3844.051758\n",
            "5617  4131.930176  3901.167969\n",
            "5618  4155.379883  3783.301514\n",
            "5619  4175.479980  3817.847900\n",
            "5620  4300.169922  3815.830566\n",
            "\n",
            "[1124 rows x 2 columns]\n"
          ]
        }
      ]
    }
  ]
}